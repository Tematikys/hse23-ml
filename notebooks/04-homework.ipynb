{
 "cells": [
  {
   "cell_type": "markdown",
   "id": "7acadae6-5012-4768-9d36-ff246bd18e70",
   "metadata": {},
   "source": [
    "# Задание №1 (easy)"
   ]
  },
  {
   "cell_type": "code",
   "execution_count": 1,
   "id": "11ebeb9c-cd72-4cb0-aeb6-866c372e6d60",
   "metadata": {},
   "outputs": [
    {
     "name": "stderr",
     "output_type": "stream",
     "text": [
      "C:\\Users\\Artem\\AppData\\Local\\Temp\\ipykernel_1984\\181903903.py:1: DeprecationWarning: \n",
      "Pyarrow will become a required dependency of pandas in the next major release of pandas (pandas 3.0),\n",
      "(to allow more performant data types, such as the Arrow string type, and better interoperability with other libraries)\n",
      "but was not found to be installed on your system.\n",
      "If this would cause problems for you,\n",
      "please provide us feedback at https://github.com/pandas-dev/pandas/issues/54466\n",
      "        \n",
      "  import pandas\n"
     ]
    }
   ],
   "source": [
    "import pandas\n",
    "import sklearn.model_selection\n",
    "import sklearn.ensemble\n",
    "import sklearn.metrics"
   ]
  },
  {
   "cell_type": "code",
   "execution_count": 2,
   "id": "27c9ed90-c735-4dd1-900e-1dfa0e5906c0",
   "metadata": {},
   "outputs": [
    {
     "name": "stdout",
     "output_type": "stream",
     "text": [
      "0.860109097261408 \n",
      "             0         1\n",
      "0        year  0.047259\n",
      "1     mileage  0.696300\n",
      "2         tax  0.049054\n",
      "3         mpg  0.166710\n",
      "4  engineSize  0.040678\n",
      "CPU times: total: 3min 54s\n",
      "Wall time: 44.6 s\n"
     ]
    }
   ],
   "source": [
    "%%time\n",
    "\n",
    "data = pandas.read_csv(\"../data/merc.csv\")\n",
    "\n",
    "x, y = data.drop(columns=[\"model\", \"price\", \"transmission\", \"fuelType\"]), data[\"price\"]\n",
    "x_train, x_test, y_train, y_test = sklearn.model_selection.train_test_split(x, y, train_size=0.8, random_state=2)\n",
    "\n",
    "model = sklearn.ensemble.RandomForestClassifier(n_jobs=8, random_state=2)\n",
    "model.fit(x_train, y_train)\n",
    "\n",
    "y_pred = model.predict(x_test)\n",
    "print(sklearn.metrics.r2_score(y_pred, y_test), '\\n', pandas.DataFrame(zip(model.feature_names_in_, model.feature_importances_)))"
   ]
  },
  {
   "cell_type": "markdown",
   "id": "16ccb2d9-0d36-4eb2-a09e-4216a738f40d",
   "metadata": {},
   "source": [
    "Наиболее важной характеристикой оказался пробег (неудивительно, ведь чем больше автомобиль проехал, тем меньший ресурс у него остался, что также повышает риски поломок). Далее потребление топлива (что также весьма логично, ведь чем больше автомобиль потребляет топлива, тем больше будет денежных затрат на единицу пройденного расстояния). Размер двигателя и год производства примерно в равной степени влияют на цену. "
   ]
  },
  {
   "cell_type": "markdown",
   "id": "b71ddd66-8369-470e-8e9d-22122686a96b",
   "metadata": {},
   "source": [
    "# Задание №2 (medium)"
   ]
  },
  {
   "cell_type": "code",
   "execution_count": 3,
   "id": "adfbe9b3-190c-4fbb-9fc8-30a2f534b5cb",
   "metadata": {},
   "outputs": [],
   "source": [
    "import os"
   ]
  },
  {
   "cell_type": "code",
   "execution_count": 4,
   "id": "d313728a-0058-41b8-80aa-b66f8ef61cb0",
   "metadata": {},
   "outputs": [
    {
     "name": "stderr",
     "output_type": "stream",
     "text": [
      "C:\\Programs\\Miniconda\\envs\\env\\Lib\\site-packages\\sklearn\\model_selection\\_split.py:737: UserWarning: The least populated class in y has only 1 members, which is less than n_splits=5.\n",
      "  warnings.warn(\n"
     ]
    },
    {
     "name": "stdout",
     "output_type": "stream",
     "text": [
      "RandomForestClassifier(max_depth=25, n_jobs=8, random_state=2) \n",
      " 0.722449907585951 \n",
      "                      0         1\n",
      "0                 year  0.106652\n",
      "1              mileage  0.266945\n",
      "2                  tax  0.087685\n",
      "3                  mpg  0.165604\n",
      "4           engineSize  0.084337\n",
      "5         model_mapped  0.141520\n",
      "6  transmission_mapped  0.040797\n",
      "7      fuelType_mapped  0.028799\n",
      "8         brand_mapped  0.077663\n",
      "CPU times: total: 12min 39s\n",
      "Wall time: 5min 13s\n"
     ]
    }
   ],
   "source": [
    "%%time\n",
    "\n",
    "data = pandas.DataFrame()\n",
    "for path in os.listdir(\"../data/\"):\n",
    "    item = pandas.read_csv(\"../data/\" + path)\n",
    "    item[\"brand\"] = path\n",
    "    data = pandas.concat([data, item], ignore_index=True)\n",
    "data = data.drop(columns=[\"tax(£)\", \"fuel type\", \"engine size\", \"mileage2\", \"fuel type2\", \"engine size2\", \"reference\"])\n",
    "data = data.dropna()\n",
    "data = data.sample(len(data) // 100, random_state=2)  # 100k too much for my PC :)\n",
    "\n",
    "# some data are stored weirdly\n",
    "for i in data.index:\n",
    "    if isinstance(data.loc[i, \"mileage\"], str):\n",
    "        data.loc[i, \"mileage\"] = int(data.loc[i, \"mileage\"].split()[0].replace(',', ''))\n",
    "\n",
    "# map nonnumeric to int\n",
    "features_hm = dict()\n",
    "for feature in [\"model\", \"transmission\", \"fuelType\", \"brand\"]:\n",
    "    for index, key in enumerate(set(data[feature])):\n",
    "        features_hm[key] = index\n",
    "\n",
    "for feature in [\"model\", \"transmission\", \"fuelType\", \"brand\"]:\n",
    "    data[feature + \"_mapped\"] = data[feature].apply(lambda x: features_hm[x])\n",
    "\n",
    "x, y = data.drop(columns=[\"model\", \"transmission\", \"fuelType\", \"brand\", \"price\"]), data[\"price\"].astype(\"float64\")\n",
    "x_train, x_test, y_train, y_test = sklearn.model_selection.train_test_split(x, y, train_size=0.8, random_state=2)\n",
    "\n",
    "model = sklearn.ensemble.RandomForestClassifier(n_jobs=8, random_state=2)\n",
    "\n",
    "# default params: [100, \"gini\", None, \"sqrt\"]\n",
    "params = {\n",
    "    \"n_estimators\" : [10, 25, 50, 100, 150],\n",
    "    \"criterion\"    : [\"gini\", \"entropy\", \"log_loss\"],\n",
    "    \"max_depth\"    : [10, 25, 50, None],\n",
    "    \"max_features\" : [\"sqrt\", \"log2\", None]\n",
    "}\n",
    "search = sklearn.model_selection.GridSearchCV(model, params)\n",
    "search.fit(x_train, y_train)\n",
    "\n",
    "model = search.best_estimator_\n",
    "model.fit(x_train, y_train)\n",
    "\n",
    "y_pred = model.predict(x_test)\n",
    "print(model, '\\n', sklearn.metrics.r2_score(y_pred, y_test), '\\n', pandas.DataFrame(zip(model.feature_names_in_, model.feature_importances_)))"
   ]
  },
  {
   "cell_type": "markdown",
   "id": "a4611dcf-777a-408d-bd22-298225f352c3",
   "metadata": {},
   "source": [
    "Всё также главенствующими характеристиками остаются пробег и потребление топлива. Марка автомобиля влияет на цену сильнее, чем тип топлива или коробка передач (даже вместе взятые!), но не так сильно, как модель автомобиля, год производста или размер двигателя."
   ]
  }
 ],
 "metadata": {
  "kernelspec": {
   "display_name": "Python 3 (ipykernel)",
   "language": "python",
   "name": "python3"
  },
  "language_info": {
   "codemirror_mode": {
    "name": "ipython",
    "version": 3
   },
   "file_extension": ".py",
   "mimetype": "text/x-python",
   "name": "python",
   "nbconvert_exporter": "python",
   "pygments_lexer": "ipython3",
   "version": "3.11.7"
  }
 },
 "nbformat": 4,
 "nbformat_minor": 5
}
