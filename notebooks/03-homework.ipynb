{
 "cells": [
  {
   "cell_type": "markdown",
   "id": "1cdb7669-f249-4811-be17-df63d158a29b",
   "metadata": {},
   "source": [
    "# Задание №1 (easy)"
   ]
  },
  {
   "cell_type": "code",
   "execution_count": 1,
   "id": "90966d8b-74d4-4106-afe7-105755454488",
   "metadata": {},
   "outputs": [
    {
     "name": "stderr",
     "output_type": "stream",
     "text": [
      "C:\\Users\\Artem\\AppData\\Local\\Temp\\ipykernel_12308\\272673677.py:1: DeprecationWarning: \n",
      "Pyarrow will become a required dependency of pandas in the next major release of pandas (pandas 3.0),\n",
      "(to allow more performant data types, such as the Arrow string type, and better interoperability with other libraries)\n",
      "but was not found to be installed on your system.\n",
      "If this would cause problems for you,\n",
      "please provide us feedback at https://github.com/pandas-dev/pandas/issues/54466\n",
      "        \n",
      "  import pandas\n"
     ]
    }
   ],
   "source": [
    "import pandas\n",
    "import sklearn.model_selection\n",
    "import sklearn.linear_model\n",
    "import sklearn.metrics\n",
    "import sklearn.neighbors\n",
    "import sklearn.naive_bayes\n",
    "import sklearn.svm"
   ]
  },
  {
   "cell_type": "code",
   "execution_count": 2,
   "id": "bed3efa5-44b3-4fbb-86a8-a73601ff4d8d",
   "metadata": {},
   "outputs": [
    {
     "name": "stdout",
     "output_type": "stream",
     "text": [
      "CPU times: total: 2min 21s\n",
      "Wall time: 18.7 s\n"
     ]
    },
    {
     "name": "stderr",
     "output_type": "stream",
     "text": [
      "C:\\Programs\\Miniconda\\envs\\env\\Lib\\site-packages\\sklearn\\linear_model\\_logistic.py:469: ConvergenceWarning: lbfgs failed to converge (status=1):\n",
      "STOP: TOTAL NO. of ITERATIONS REACHED LIMIT.\n",
      "\n",
      "Increase the number of iterations (max_iter) or scale the data as shown in:\n",
      "    https://scikit-learn.org/stable/modules/preprocessing.html\n",
      "Please also refer to the documentation for alternative solver options:\n",
      "    https://scikit-learn.org/stable/modules/linear_model.html#logistic-regression\n",
      "  n_iter_i = _check_optimize_result(\n"
     ]
    },
    {
     "data": {
      "text/plain": [
       "0.9347966439161737"
      ]
     },
     "execution_count": 2,
     "metadata": {},
     "output_type": "execute_result"
    }
   ],
   "source": [
    "%%time\n",
    "\n",
    "data = pandas.read_pickle('../data/train.pickle')\n",
    "x, y = data['features'], data['labels']\n",
    "x_train, x_test, y_train, y_test = sklearn.model_selection.train_test_split(x, y, train_size=0.8, random_state=10 ** 9 + 7)\n",
    "model = sklearn.linear_model.LogisticRegression(max_iter=128)\n",
    "model.fit(x_train.reshape(x_train.shape[0], -1), y_train)\n",
    "y_pred = model.predict(x_test.reshape(x_test.shape[0], -1))\n",
    "sklearn.metrics.precision_score(y_test, y_pred, average='weighted')"
   ]
  },
  {
   "cell_type": "markdown",
   "id": "dab51003-f39e-4dec-b4b1-84aba5ef347c",
   "metadata": {},
   "source": [
    "Была выбрана такая метрика, так как она учитывает не общее количество неудач модели, а высчитывает средневзвешенное между точностей для каждой категории, что важно, ведь подобная модель должна с хорошей точностью опеределять все типы знаков, а не в общей сложности, так как если какие-то знаки встречаются реже, и модель плохо их распознаёт, то это критически недопустимая ситуация для, например, беспилотных автомоблей."
   ]
  },
  {
   "cell_type": "code",
   "execution_count": 3,
   "id": "1cbe8c54-a40a-4f98-8022-c9602745ad5e",
   "metadata": {},
   "outputs": [
    {
     "name": "stdout",
     "output_type": "stream",
     "text": [
      "('Speed limit (60km/h)', 40)\n",
      "('Speed limit (50km/h)', 37)\n",
      "('Speed limit (80km/h)', 36)\n",
      "('Speed limit (30km/h)', 35)\n",
      "('Speed limit (120km/h)', 34)\n"
     ]
    }
   ],
   "source": [
    "labels = pandas.read_pickle('../data/labels.pickle')\n",
    "\n",
    "def show_worst_items():\n",
    "    global labels, y_pred, y_test\n",
    "    mistakes = {}\n",
    "    for i in range(len(y_test)):\n",
    "        if y_pred[i] != y_test[i]:\n",
    "            if not (labels[y_test[i]] in mistakes):\n",
    "                mistakes[labels[y_test[i]]] = 0\n",
    "            mistakes[labels[y_test[i]]] += 1\n",
    "    \n",
    "    print(*sorted(list(mistakes.items()), key=lambda x : x[1], reverse=True)[:5], sep='\\n')\n",
    "\n",
    "show_worst_items()"
   ]
  },
  {
   "cell_type": "markdown",
   "id": "6909888e-763d-45cf-abbf-8e68f2759d8e",
   "metadata": {},
   "source": [
    "Можно заметить, что чаще всего модель ошибается в определении чисел, что неудивительно из-за качества изображений."
   ]
  },
  {
   "cell_type": "markdown",
   "id": "cd2dd93e-7227-44c9-ace7-843edc2288ac",
   "metadata": {},
   "source": [
    "# Задание №2 (medium)"
   ]
  },
  {
   "cell_type": "code",
   "execution_count": 4,
   "id": "1194e948-367a-44ad-a68a-ba10907b60c8",
   "metadata": {},
   "outputs": [
    {
     "name": "stdout",
     "output_type": "stream",
     "text": [
      "0.7990170169629001\n",
      "('Speed limit (60km/h)', 40)\n",
      "('Speed limit (50km/h)', 37)\n",
      "('Speed limit (80km/h)', 36)\n",
      "('Speed limit (30km/h)', 35)\n",
      "('Speed limit (120km/h)', 34)\n",
      "CPU times: total: 43.9 s\n",
      "Wall time: 10.1 s\n"
     ]
    }
   ],
   "source": [
    "%%time\n",
    "\n",
    "model = sklearn.neighbors.KNeighborsClassifier(n_neighbors=16)\n",
    "model.fit(x_train.reshape(x_train.shape[0], -1), y_train)\n",
    "print(sklearn.metrics.precision_score(y_test, model.predict(x_test.reshape(x_test.shape[0], -1)), average='weighted'))\n",
    "show_worst_items()"
   ]
  },
  {
   "cell_type": "code",
   "execution_count": 5,
   "id": "a3622217-08b6-4013-bd69-7a438bceba92",
   "metadata": {},
   "outputs": [
    {
     "name": "stdout",
     "output_type": "stream",
     "text": [
      "0.47788173327432193\n",
      "('Speed limit (60km/h)', 40)\n",
      "('Speed limit (50km/h)', 37)\n",
      "('Speed limit (80km/h)', 36)\n",
      "('Speed limit (30km/h)', 35)\n",
      "('Speed limit (120km/h)', 34)\n",
      "CPU times: total: 1min 4s\n",
      "Wall time: 1min 4s\n"
     ]
    }
   ],
   "source": [
    "%%time\n",
    "\n",
    "model = sklearn.naive_bayes.MultinomialNB()\n",
    "model.fit(x_train.reshape(x_train.shape[0], -1), y_train)\n",
    "print(sklearn.metrics.precision_score(y_test, model.predict(x_test.reshape(x_test.shape[0], -1)), average='weighted'))\n",
    "show_worst_items()"
   ]
  },
  {
   "cell_type": "code",
   "execution_count": 6,
   "id": "16562e9f-52fc-438c-b60b-b3f034951b38",
   "metadata": {},
   "outputs": [
    {
     "name": "stderr",
     "output_type": "stream",
     "text": [
      "C:\\Programs\\Miniconda\\envs\\env\\Lib\\site-packages\\sklearn\\svm\\_base.py:297: ConvergenceWarning: Solver terminated early (max_iter=8).  Consider pre-processing your data with StandardScaler or MinMaxScaler.\n",
      "  warnings.warn(\n"
     ]
    },
    {
     "name": "stdout",
     "output_type": "stream",
     "text": [
      "0.5367096180069916\n",
      "('Speed limit (60km/h)', 40)\n",
      "('Speed limit (50km/h)', 37)\n",
      "('Speed limit (80km/h)', 36)\n",
      "('Speed limit (30km/h)', 35)\n",
      "('Speed limit (120km/h)', 34)\n",
      "CPU times: total: 1min 52s\n",
      "Wall time: 1min 51s\n"
     ]
    }
   ],
   "source": [
    "%%time\n",
    "\n",
    "model = sklearn.svm.SVC(kernel='linear', max_iter=8)\n",
    "model.fit(x_train.reshape(x_train.shape[0], -1), y_train)\n",
    "print(sklearn.metrics.precision_score(y_test, model.predict(x_test.reshape(x_test.shape[0], -1)), average='weighted'))\n",
    "show_worst_items()"
   ]
  },
  {
   "cell_type": "code",
   "execution_count": 7,
   "id": "6841dbea-1fc9-4856-96b9-9f2175492384",
   "metadata": {},
   "outputs": [
    {
     "name": "stderr",
     "output_type": "stream",
     "text": [
      "C:\\Programs\\Miniconda\\envs\\env\\Lib\\site-packages\\sklearn\\svm\\_base.py:297: ConvergenceWarning: Solver terminated early (max_iter=8).  Consider pre-processing your data with StandardScaler or MinMaxScaler.\n",
      "  warnings.warn(\n"
     ]
    },
    {
     "name": "stdout",
     "output_type": "stream",
     "text": [
      "0.1625947614805924\n",
      "('Speed limit (60km/h)', 40)\n",
      "('Speed limit (50km/h)', 37)\n",
      "('Speed limit (80km/h)', 36)\n",
      "('Speed limit (30km/h)', 35)\n",
      "('Speed limit (120km/h)', 34)\n"
     ]
    },
    {
     "name": "stderr",
     "output_type": "stream",
     "text": [
      "C:\\Programs\\Miniconda\\envs\\env\\Lib\\site-packages\\sklearn\\metrics\\_classification.py:1497: UndefinedMetricWarning: Precision is ill-defined and being set to 0.0 in labels with no predicted samples. Use `zero_division` parameter to control this behavior.\n",
      "  _warn_prf(average, modifier, f\"{metric.capitalize()} is\", len(result))\n"
     ]
    }
   ],
   "source": [
    "model = sklearn.svm.SVC(kernel='poly', max_iter=8)\n",
    "model.fit(x_train.reshape(x_train.shape[0], -1), y_train)\n",
    "print(sklearn.metrics.precision_score(y_test, model.predict(x_test.reshape(x_test.shape[0], -1)), average='weighted'))\n",
    "show_worst_items()"
   ]
  },
  {
   "cell_type": "code",
   "execution_count": 8,
   "id": "8ec312c0-0b24-40db-8bf9-3c10993fc9a3",
   "metadata": {},
   "outputs": [
    {
     "name": "stderr",
     "output_type": "stream",
     "text": [
      "C:\\Programs\\Miniconda\\envs\\env\\Lib\\site-packages\\sklearn\\svm\\_base.py:297: ConvergenceWarning: Solver terminated early (max_iter=8).  Consider pre-processing your data with StandardScaler or MinMaxScaler.\n",
      "  warnings.warn(\n"
     ]
    },
    {
     "name": "stdout",
     "output_type": "stream",
     "text": [
      "0.31580700396205613\n",
      "('Speed limit (60km/h)', 40)\n",
      "('Speed limit (50km/h)', 37)\n",
      "('Speed limit (80km/h)', 36)\n",
      "('Speed limit (30km/h)', 35)\n",
      "('Speed limit (120km/h)', 34)\n"
     ]
    },
    {
     "name": "stderr",
     "output_type": "stream",
     "text": [
      "C:\\Programs\\Miniconda\\envs\\env\\Lib\\site-packages\\sklearn\\metrics\\_classification.py:1497: UndefinedMetricWarning: Precision is ill-defined and being set to 0.0 in labels with no predicted samples. Use `zero_division` parameter to control this behavior.\n",
      "  _warn_prf(average, modifier, f\"{metric.capitalize()} is\", len(result))\n"
     ]
    }
   ],
   "source": [
    "model = sklearn.svm.SVC(kernel='rbf', max_iter=8)\n",
    "model.fit(x_train.reshape(x_train.shape[0], -1), y_train)\n",
    "print(sklearn.metrics.precision_score(y_test, model.predict(x_test.reshape(x_test.shape[0], -1)), average='weighted'))\n",
    "show_worst_items()"
   ]
  },
  {
   "cell_type": "markdown",
   "id": "271cd670-d079-4fa1-bec4-b84b8a8e5860",
   "metadata": {},
   "source": [
    "Слабым местом KNN скорее всего стала крайная близость знаков ограничения скорости, что усугубляетя тем, что они являются слабым местом для всех моделей. НБК предполагает, что признаки являются независимыми, но многие из них связаны напрямую, например, все запрещающие знаки имеют круглую форму и красную обводку. Вероятнон чтоо, данные не могут быть разделенполиномиально (в том числе линейно)но, поэтому применениSVN даёт не лучший результат.шие."
   ]
  }
 ],
 "metadata": {
  "kernelspec": {
   "display_name": "Python 3 (ipykernel)",
   "language": "python",
   "name": "python3"
  },
  "language_info": {
   "codemirror_mode": {
    "name": "ipython",
    "version": 3
   },
   "file_extension": ".py",
   "mimetype": "text/x-python",
   "name": "python",
   "nbconvert_exporter": "python",
   "pygments_lexer": "ipython3",
   "version": "3.11.7"
  }
 },
 "nbformat": 4,
 "nbformat_minor": 5
}
