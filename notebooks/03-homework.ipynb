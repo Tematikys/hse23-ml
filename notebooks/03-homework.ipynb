{
 "cells": [
  {
   "cell_type": "markdown",
   "id": "1cdb7669-f249-4811-be17-df63d158a29b",
   "metadata": {},
   "source": [
    "# Задание №1 (easy)"
   ]
  },
  {
   "cell_type": "code",
   "execution_count": 1,
   "id": "90966d8b-74d4-4106-afe7-105755454488",
   "metadata": {},
   "outputs": [
    {
     "name": "stderr",
     "output_type": "stream",
     "text": [
      "C:\\Users\\Artem\\AppData\\Local\\Temp\\ipykernel_2824\\2654800032.py:1: DeprecationWarning: \n",
      "Pyarrow will become a required dependency of pandas in the next major release of pandas (pandas 3.0),\n",
      "(to allow more performant data types, such as the Arrow string type, and better interoperability with other libraries)\n",
      "but was not found to be installed on your system.\n",
      "If this would cause problems for you,\n",
      "please provide us feedback at https://github.com/pandas-dev/pandas/issues/54466\n",
      "        \n",
      "  import pandas\n"
     ]
    }
   ],
   "source": [
    "import pandas\n",
    "import sklearn.model_selection\n",
    "import sklearn.linear_model\n",
    "import sklearn.metrics"
   ]
  },
  {
   "cell_type": "code",
   "execution_count": 2,
   "id": "bed3efa5-44b3-4fbb-86a8-a73601ff4d8d",
   "metadata": {},
   "outputs": [
    {
     "name": "stdout",
     "output_type": "stream",
     "text": [
      "CPU times: total: 2min 25s\n",
      "Wall time: 19.4 s\n"
     ]
    },
    {
     "name": "stderr",
     "output_type": "stream",
     "text": [
      "C:\\Programs\\Miniconda\\envs\\env\\Lib\\site-packages\\sklearn\\linear_model\\_logistic.py:469: ConvergenceWarning: lbfgs failed to converge (status=1):\n",
      "STOP: TOTAL NO. of ITERATIONS REACHED LIMIT.\n",
      "\n",
      "Increase the number of iterations (max_iter) or scale the data as shown in:\n",
      "    https://scikit-learn.org/stable/modules/preprocessing.html\n",
      "Please also refer to the documentation for alternative solver options:\n",
      "    https://scikit-learn.org/stable/modules/linear_model.html#logistic-regression\n",
      "  n_iter_i = _check_optimize_result(\n"
     ]
    },
    {
     "data": {
      "text/plain": [
       "0.9347966439161737"
      ]
     },
     "execution_count": 2,
     "metadata": {},
     "output_type": "execute_result"
    }
   ],
   "source": [
    "%%time\n",
    "\n",
    "data = pandas.read_pickle('../data/train.pickle')\n",
    "x, y = data['features'], data['labels']\n",
    "x_train, x_test, y_train, y_test = sklearn.model_selection.train_test_split(x, y, train_size=0.8, random_state=10 ** 9 + 7)\n",
    "model = sklearn.linear_model.LogisticRegression(max_iter=128)\n",
    "model.fit(x_train.reshape(x_train.shape[0], -1), y_train)\n",
    "y_pred = model.predict(x_test.reshape(x_test.shape[0], -1))\n",
    "sklearn.metrics.precision_score(y_test, y_pred, average='weighted')"
   ]
  },
  {
   "cell_type": "markdown",
   "id": "dab51003-f39e-4dec-b4b1-84aba5ef347c",
   "metadata": {},
   "source": [
    "Была выбрана такая метрика, так как она учитывает не общее количество неудач модели, а высчитывает средневзвешенное между точностей для каждой категории, что важно, ведь подобная модель должна с хорошей точностью опеределять все типы знаков, а не в общей сложности, так как если какие-то знаки встречаются реже, и модель плохо их распознаёт, то это критически недопустимая ситуация для, например, беспилотных автомоблей."
   ]
  },
  {
   "cell_type": "code",
   "execution_count": 3,
   "id": "1cbe8c54-a40a-4f98-8022-c9602745ad5e",
   "metadata": {},
   "outputs": [
    {
     "data": {
      "text/plain": [
       "[('Speed limit (60km/h)', 40),\n",
       " ('Speed limit (50km/h)', 37),\n",
       " ('Speed limit (80km/h)', 36),\n",
       " ('Speed limit (30km/h)', 35),\n",
       " ('Speed limit (120km/h)', 34),\n",
       " ('Speed limit (70km/h)', 23),\n",
       " ('Speed limit (100km/h)', 23),\n",
       " ('Yield', 17),\n",
       " ('Right-of-way at the next intersection', 16),\n",
       " ('Traffic signals', 14)]"
      ]
     },
     "execution_count": 3,
     "metadata": {},
     "output_type": "execute_result"
    }
   ],
   "source": [
    "labels = pandas.read_pickle('../data/labels.pickle')\n",
    "\n",
    "mistakes = {}\n",
    "for i in range(len(y_test)):\n",
    "    if y_pred[i] != y_test[i]:\n",
    "        if not (labels[y_test[i]] in mistakes):\n",
    "            mistakes[labels[y_test[i]]] = 0\n",
    "        mistakes[labels[y_test[i]]] += 1\n",
    "\n",
    "sorted(list(mistakes.items()), key=lambda x : x[1], reverse=True)[:10]"
   ]
  },
  {
   "cell_type": "markdown",
   "id": "6909888e-763d-45cf-abbf-8e68f2759d8e",
   "metadata": {},
   "source": [
    "Можно заметить, что чаще всего модель ошибается в определении чисел, что неудивительно из-за качества изображений."
   ]
  }
 ],
 "metadata": {
  "kernelspec": {
   "display_name": "Python 3 (ipykernel)",
   "language": "python",
   "name": "python3"
  },
  "language_info": {
   "codemirror_mode": {
    "name": "ipython",
    "version": 3
   },
   "file_extension": ".py",
   "mimetype": "text/x-python",
   "name": "python",
   "nbconvert_exporter": "python",
   "pygments_lexer": "ipython3",
   "version": "3.11.7"
  }
 },
 "nbformat": 4,
 "nbformat_minor": 5
}
