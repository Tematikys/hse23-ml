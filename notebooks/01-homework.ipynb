{
 "cells": [
  {
   "cell_type": "markdown",
   "id": "2d622a1e-abd2-4d9d-85e4-b1919160db2d",
   "metadata": {},
   "source": [
    "# Задача №1"
   ]
  },
  {
   "cell_type": "code",
   "execution_count": 1,
   "id": "81bb0bfa-3a72-477f-91d7-ed6c56c38ce7",
   "metadata": {},
   "outputs": [
    {
     "name": "stdout",
     "output_type": "stream",
     "text": [
      "Testcase #1: {'mean': 3.4285714285714284, 'median': 3, 'mode': 1}\n",
      "Testcase #2: None\n",
      "Testcase #3: {'mean': 17.0, 'median': 17, 'mode': 0}\n",
      "Testcase #4: {'mean': 4.25, 'median': 3.5, 'mode': 1}\n",
      "Testcase #5: {'mean': 3.0, 'median': 2.0, 'mode': 1}\n"
     ]
    }
   ],
   "source": [
    "from typing import List, Dict\n",
    "\n",
    "def find_stats(array : List[int]) -> Dict[str, int]:\n",
    "    array_size : int = len(array)\n",
    "    if array_size == 0:\n",
    "        return None\n",
    "\n",
    "    array.sort()\n",
    "    stats : dict = {}\n",
    "    stats['mean'] = sum(array) / array_size\n",
    "\n",
    "    if array_size % 2 == 0:\n",
    "        stats['median'] = (array[array_size // 2 - 1] + array[array_size // 2]) / 2\n",
    "    else:\n",
    "        stats['median'] = array[array_size // 2]\n",
    "\n",
    "    best_count : int = 0\n",
    "    best_value : int = None\n",
    "    current_count : int = 0\n",
    "    current_value : int = None\n",
    "    array.append(None)\n",
    "\n",
    "    for value in array:\n",
    "        if value == current_value:\n",
    "            current_count += 1\n",
    "        else:\n",
    "            if current_count > best_count:\n",
    "                best_count = current_count\n",
    "                best_value = current_value\n",
    "            current_count = 1\n",
    "            curent_value = value\n",
    "\n",
    "    stats['mode'] = best_count\n",
    "    return stats\n",
    "\n",
    "print('Testcase #1:', find_stats([0, 1, 1, 10, 5, 4, 3]))\n",
    "print('Testcase #2:', find_stats([]))\n",
    "print('Testcase #3:', find_stats([17]))\n",
    "print('Testcase #4:', find_stats([0, 1, 1, 10, 10, 5, 4, 3]))\n",
    "print('Testcase #5:', find_stats([0, 1, 1, 10, 0, 5, 4, 3]))"
   ]
  },
  {
   "cell_type": "markdown",
   "id": "bfa8f8bc-b639-4876-ac32-e37c15c2ea3f",
   "metadata": {},
   "source": [
    "Поиск среднего происходит очевидным образом. Для поиска медианы было решено отсортировать список, чтобы после упростить поиск моды. В список был добавлен `None`, чтобы не добавлять дополнительный `if` после цикла."
   ]
  },
  {
   "cell_type": "markdown",
   "id": "35cf61f5-f92a-409d-850b-f1f1ef241b14",
   "metadata": {},
   "source": [
    "# Задача №2"
   ]
  },
  {
   "cell_type": "code",
   "execution_count": 2,
   "id": "3ec06bda-451c-43c5-913c-fca806ae5424",
   "metadata": {},
   "outputs": [
    {
     "name": "stdout",
     "output_type": "stream",
     "text": [
      "{'attack_type': 'Melee', 'id': '61', 'legs': '8', 'localized_name': 'Broodmother', 'name': 'npc_dota_hero_broodmother', 'primary_attr': 'agi', 'roles': ['Carry', 'Pusher', 'Escape', 'Nuker']}\n"
     ]
    }
   ],
   "source": [
    "from typing import List, Dict\n",
    "\n",
    "def parse_csv(file_content: str) -> List[Dict]:\n",
    "    table : List[Dict] = []\n",
    "    lines : List[str] = file_content.split('\\n')[:-1]\n",
    "    keys : List[str] = lines[0].split(',')[1:]\n",
    "    for line in lines[1:]:\n",
    "        item : Dict[str, str] = {}\n",
    "        for index, value in enumerate(line.split('\\\"')[0].split(',')[1:]):\n",
    "            item[keys[index]] = value\n",
    "        # print(line)\n",
    "        # print(line.split('\\\"'))\n",
    "        roles : List[str] = [role[1:-1] for role in line.split('\\\"')[0 if len(line.split('\\\"')) == 1 else 1][1:-1].split(', ')]\n",
    "        item['roles'] = roles\n",
    "        table.append(item)\n",
    "    return table\n",
    "\n",
    "file = open('../data/dota_hero_stats.csv', 'r', encoding='utf-8')\n",
    "\n",
    "result = parse_csv(file.read())\n",
    "max_leg_amount = 0\n",
    "our_hero = None\n",
    "for hero in result:\n",
    "    if int(hero['legs']) > max_leg_amount:\n",
    "        max_leg_amount = int(hero['legs'])\n",
    "        our_hero = hero\n",
    "print(our_hero)\n",
    "\n",
    "file.close()"
   ]
  },
  {
   "cell_type": "markdown",
   "id": "e2b83b1a-5a34-4348-9877-227f0b73b045",
   "metadata": {},
   "source": [
    "В первой строке указаны ключи для полей, сохраним их в списко `keys`. Проитерируемся по всем строкам. Некоторые содержат нескоьлко ролей, поэтому это поле выделено двойными кавичками, поэтому для всех ключей, за исключением ролей, проитерируемся по всем полям, кроме последнего. Отдельно обработаем роли. Поиск героя с наибольших количеством ног проивходит довольно очевидно (я надеюсь) =)"
   ]
  }
 ],
 "metadata": {
  "kernelspec": {
   "display_name": "Python 3 (ipykernel)",
   "language": "python",
   "name": "python3"
  },
  "language_info": {
   "codemirror_mode": {
    "name": "ipython",
    "version": 3
   },
   "file_extension": ".py",
   "mimetype": "text/x-python",
   "name": "python",
   "nbconvert_exporter": "python",
   "pygments_lexer": "ipython3",
   "version": "3.11.7"
  }
 },
 "nbformat": 4,
 "nbformat_minor": 5
}
